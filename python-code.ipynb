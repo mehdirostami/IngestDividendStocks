{
  "nbformat": 4,
  "nbformat_minor": 0,
  "metadata": {
    "colab": {
      "provenance": [],
      "authorship_tag": "ABX9TyPTDXS62hEokEa7/1LN0Div",
      "include_colab_link": true
    },
    "kernelspec": {
      "name": "python3",
      "display_name": "Python 3"
    },
    "language_info": {
      "name": "python"
    }
  },
  "cells": [
    {
      "cell_type": "markdown",
      "metadata": {
        "id": "view-in-github",
        "colab_type": "text"
      },
      "source": [
        "<a href=\"https://colab.research.google.com/github/mehdirostami/IngestDividendStocks/blob/main/python-code.ipynb\" target=\"_parent\"><img src=\"https://colab.research.google.com/assets/colab-badge.svg\" alt=\"Open In Colab\"/></a>"
      ]
    },
    {
      "cell_type": "code",
      "execution_count": null,
      "metadata": {
        "colab": {
          "base_uri": "https://localhost:8080/"
        },
        "id": "9YRB6WD7locE",
        "outputId": "bef9f74b-b899-4d1e-c5d4-a90c418d6873"
      },
      "outputs": [
        {
          "output_type": "stream",
          "name": "stdout",
          "text": [
            "Requirement already satisfied: yfinance in /usr/local/lib/python3.10/dist-packages (0.2.37)\n",
            "Requirement already satisfied: pandas>=1.3.0 in /usr/local/lib/python3.10/dist-packages (from yfinance) (2.0.3)\n",
            "Requirement already satisfied: numpy>=1.16.5 in /usr/local/lib/python3.10/dist-packages (from yfinance) (1.25.2)\n",
            "Requirement already satisfied: requests>=2.31 in /usr/local/lib/python3.10/dist-packages (from yfinance) (2.31.0)\n",
            "Requirement already satisfied: multitasking>=0.0.7 in /usr/local/lib/python3.10/dist-packages (from yfinance) (0.0.11)\n",
            "Requirement already satisfied: lxml>=4.9.1 in /usr/local/lib/python3.10/dist-packages (from yfinance) (4.9.4)\n",
            "Requirement already satisfied: appdirs>=1.4.4 in /usr/local/lib/python3.10/dist-packages (from yfinance) (1.4.4)\n",
            "Requirement already satisfied: pytz>=2022.5 in /usr/local/lib/python3.10/dist-packages (from yfinance) (2023.4)\n",
            "Requirement already satisfied: frozendict>=2.3.4 in /usr/local/lib/python3.10/dist-packages (from yfinance) (2.4.1)\n",
            "Requirement already satisfied: peewee>=3.16.2 in /usr/local/lib/python3.10/dist-packages (from yfinance) (3.17.1)\n",
            "Requirement already satisfied: beautifulsoup4>=4.11.1 in /usr/local/lib/python3.10/dist-packages (from yfinance) (4.12.3)\n",
            "Requirement already satisfied: html5lib>=1.1 in /usr/local/lib/python3.10/dist-packages (from yfinance) (1.1)\n",
            "Requirement already satisfied: soupsieve>1.2 in /usr/local/lib/python3.10/dist-packages (from beautifulsoup4>=4.11.1->yfinance) (2.5)\n",
            "Requirement already satisfied: six>=1.9 in /usr/local/lib/python3.10/dist-packages (from html5lib>=1.1->yfinance) (1.16.0)\n",
            "Requirement already satisfied: webencodings in /usr/local/lib/python3.10/dist-packages (from html5lib>=1.1->yfinance) (0.5.1)\n",
            "Requirement already satisfied: python-dateutil>=2.8.2 in /usr/local/lib/python3.10/dist-packages (from pandas>=1.3.0->yfinance) (2.8.2)\n",
            "Requirement already satisfied: tzdata>=2022.1 in /usr/local/lib/python3.10/dist-packages (from pandas>=1.3.0->yfinance) (2024.1)\n",
            "Requirement already satisfied: charset-normalizer<4,>=2 in /usr/local/lib/python3.10/dist-packages (from requests>=2.31->yfinance) (3.3.2)\n",
            "Requirement already satisfied: idna<4,>=2.5 in /usr/local/lib/python3.10/dist-packages (from requests>=2.31->yfinance) (3.6)\n",
            "Requirement already satisfied: urllib3<3,>=1.21.1 in /usr/local/lib/python3.10/dist-packages (from requests>=2.31->yfinance) (2.0.7)\n",
            "Requirement already satisfied: certifi>=2017.4.17 in /usr/local/lib/python3.10/dist-packages (from requests>=2.31->yfinance) (2024.2.2)\n"
          ]
        }
      ],
      "source": [
        "import numpy as np\n",
        "import scipy as sp\n",
        "import matplotlib.pyplot as plt\n",
        "from matplotlib import pyplot\n",
        "import pandas as pd\n",
        "import pandas_datareader as pdr\n",
        "\n",
        "# !pip install yfinance\n",
        "import pandas_datareader.data as pdr\n",
        "import yfinance as yf\n",
        "yf.pdr_override()\n",
        "from datetime import datetime\n"
      ]
    },
    {
      "cell_type": "code",
      "source": [],
      "metadata": {
        "id": "vVCkBhv4Emht"
      },
      "execution_count": null,
      "outputs": []
    },
    {
      "cell_type": "code",
      "source": [
        "from datetime import date\n",
        "\n",
        "today = date.today()\n"
      ],
      "metadata": {
        "colab": {
          "base_uri": "https://localhost:8080/",
          "height": 35
        },
        "id": "xB0Brmx5xlCr",
        "outputId": "9eadeb10-335f-4238-de14-1dba0e97307f"
      },
      "execution_count": null,
      "outputs": [
        {
          "output_type": "execute_result",
          "data": {
            "text/plain": [
              "'April 12, 2024'"
            ],
            "application/vnd.google.colaboratory.intrinsic+json": {
              "type": "string"
            }
          },
          "metadata": {},
          "execution_count": 79
        }
      ]
    },
    {
      "cell_type": "code",
      "source": [
        "# get_dividend_yield, get_earnings_per_share, get_exdividend_date, get_pe_ratio, get_payout_ratio, get_market_cap\n",
        "def stock_info_ingestion(symbols_list) -> pd.DataFrame:\n",
        "  not_found = []\n",
        "  result = {}\n",
        "  for i, symbol in enumerate(symbols_list):\n",
        "    try:\n",
        "      info = yf.Ticker(symbol).info\n",
        "      if len(info) > 1:\n",
        "        result[i+1] = {}\n",
        "        result[i+1]['extract date'] = today.strftime(\"%B %d, %Y\")\n",
        "\n",
        "        try:\n",
        "            result[i+1]['country'] = info['country']\n",
        "        except:\n",
        "            pass\n",
        "        try:\n",
        "            result[i+1]['symbol'] = symbol\n",
        "        except:\n",
        "            pass\n",
        "        try:\n",
        "            result[i+1]['shortName'] = info['shortName']\n",
        "        except:\n",
        "            pass\n",
        "        try:\n",
        "            result[i+1]['sector'] = info['sector']\n",
        "        except:\n",
        "            pass\n",
        "        try:\n",
        "            result[i+1]['industry'] = info['industry']\n",
        "        except:\n",
        "            pass\n",
        "        try:\n",
        "            result[i+1]['currency'] = info['currency']\n",
        "        except:\n",
        "            pass\n",
        "        try:\n",
        "            result[i+1]['dividendYield'] = 100 * info['dividendYield']\n",
        "        except:\n",
        "            pass\n",
        "        try:\n",
        "            result[i+1]['payoutRatio'] = 100 * info['payoutRatio']\n",
        "        except:\n",
        "            pass\n",
        "        try:\n",
        "            result[i+1]['trailingAnnualDividendYield'] = info['trailingAnnualDividendYield']\n",
        "        except:\n",
        "            pass\n",
        "        try:\n",
        "            result[i+1]['exDividendDate'] = info['exDividendDate']\n",
        "        except:\n",
        "            pass\n",
        "        try:\n",
        "            result[i+1]['beta'] = info['beta']\n",
        "        except:\n",
        "            pass\n",
        "        try:\n",
        "            result[i+1]['regularMarketVolume'] = info['regularMarketVolume']\n",
        "        except:\n",
        "            pass\n",
        "        try:\n",
        "            result[i+1]['marketCap'] = info['marketCap']\n",
        "        except:\n",
        "            pass\n",
        "        try:\n",
        "            result[i+1]['forwardPE'] = info['forwardPE']\n",
        "        except:\n",
        "            pass\n",
        "\n",
        "    except Exception as e:\n",
        "      print(e)\n",
        "      not_found += [symbol]\n",
        "\n",
        "  return pd.DataFrame.from_dict(result, 'index')[['extract date', 'country', 'symbol','shortName','sector','industry','currency','dividendYield','payoutRatio','forwardPE','trailingAnnualDividendYield','exDividendDate','beta','regularMarketVolume','marketCap']]"
      ],
      "metadata": {
        "id": "wRfSJELemSfO"
      },
      "execution_count": null,
      "outputs": []
    },
    {
      "cell_type": "code",
      "source": [
        "# https://ca.investing.com/equities/australia-adrs\n",
        "\n",
        "S = list(set(['BHP','PEY','SBSW','WBA','RIO','SCCO','TECK','LUN','ARG','ENB', 'BMY','PM','VZ','TRP','CNQ','PPL','WCP','SU','CU-PE','CNR','VDY','XEI','SCHD','XOM','MDT','GILD','DUK','PXD','LNF.TO','CIX.TO','SES.TO','PKI.TO','MTL.TO','LIF.TO','TCL.A.TO','WCP.TO','FRU.TO','CRT.UN','CCA.TO','CPX.TO','PMZ.UN','PPL.TO','POU.TO','HWX.TO','POW.TO','MTL.TO','MFC','WTE.TO','PXT.TO','CTC.A.TO','SU','GWO.TO','BTO.TO','TD','CNQ','NWC.TO','SLF','NA.TO','KMP.UN','QBR.B.TO','CNR.TO','MRU.TO','CNQ.TO','TRP','ATD.B.TO','RY','FTS','BCE.TO','CPX.TO','EMA.TO','EMA.TO','KEY.TO','KEY.TO','XTC.TO','GWO.TO','RNW.TO','RIO.AX','BCE.TO','T.TO','AG','PBR','CVX','PBR.A','BRAP4.SA','GGBR4.SA','CIEL3.SA','FRU','TOU','BIR','ATLX','LTHM','SGML','PLL','LAC','MMM','DIS','EWZ','KWEB','RSX','BBD','CBD','CIG','ELP','CPL','ITUB','UGP','TEL','FERG','CRH','NVT','SHEL','AZN','IVX','WFC','NWX','PNE','ZUM','STLC','FSZ','AI','ALV','Y','CJ','TOU','MKP','BRE','TAL','TPL','TF','PRQ','BCE','PEY','FC','GXE','DIV','LIF','SRES','PHX','KPT','SRR','RE','ENB','TRP','RNW','FDI','SPB','FRU','BIR','IPO','GEI','AQN','GDL','LB','PIF','ARG','SIA','VCI','WCP','RSI','PZA','DBM','TSL','T','OLY','CPX','FN','IGM','NEO','EXE','ADN','CGO','PXT','BNS','AWI','ORA','PIPE','CCA','BEPC','EMA','SGY','DXT','CU','HME','UFC','XTC','GDC','POW','WTE','KEY','TPZ','PPL','BTO','DE','EIF','GWO','ET','CM','NPI','BOS','TD','CAS','ALC','CWB','AFM','FISH','POU','MFC','HWX','HWO','SECU','MTL','CIX','GH','CPG','BMO','NXG','FTS','HLF','INE','SLF','ARE','MCS','MCB','WJX','SFC','SU','ALA','CMI','NWC','RY','CF','IAG','TCW','NTR','PBH','HFC','RUS','DLCG','MFI','MRD','SXP','BAM','CNQ','NA','TVE','MG','EDV','PSK','WP','ENGH','PKI','ZZZ','TOT','SES','TTNM','ISV','LNF','KBL','TII','CG','DRM','H','SIS','PSI','ICE','SFTC','DR','BDT','LUG','ELC','CTO','FEC','JWEL','TA','PLC','SUG','VET','SAP','DNG','AOI','GSY','ARX','GBT','IMO','PSD','SII','BLX','LPC','VOXR','FTT','LUN','GIL','ABCT','MTY','ABX','IFC','EFN','NXLV','CEU','PRL','DPM','RX','ECN','TCN','YRI','PAAS','CMG','PRMW','CGY','QRC','X','EQB','CNR','MRU','FAR','K','MPC','CVE','IEI','VLN','MRE','BTE','CHW','WN','ALS','MX','RCH','SFI','WFG','LNR','TIH','DFY','BDGI','SJ','TRI','ELF','BDI','FFH','NOA','ADEN','TFPM','PET','ERF','MAL','NVEI','L','FNV','EFX','WPM','AIF','SJT','MNR','IVR','DSX','GPMT','CHMI','RC','ORC','DALN','AFCG','GNL','ARR','AGNC','NREF','COHN','TWO','MVO','ACRE','MPW','EARN','NLY','REFI','ABR','EFC','TRIN','SGA','SACH','BDN','DX','BXMT','CATO','CRT','MFA','ARI','SD','CVI','TRTX','BRSP','MITT','SAR','GIPR','ONL','MNDO','SVC','FLNG','NHTC','USEA','JFIN','AOMR','NFE','PMT','AMBP','LFT','NAT','MTR','FBRT','TXO','NYMT','KW','CMTG','RTL','SEVN','RWT','CIM','INSW','UNIT','WMC','AJX','HTGC','BKE','KREF','LEG','PRT','GMRE','CIVI','LPG','CSWC','WILC','STWD','BRDG','CLPS','MOMO','GHI','MO','TFSL','HIHO','DEA','RITM','AY','NXDT','EVC','WASH','CTO','GOOD','LOAN','SQFT','HIMX','FRO','CBRL','CMCT','SBR','HR','OHI','RILY','DSWL','SBRA','CNA','LADR','CURI','CLPR','UHT','CIO','XYF','DHT','VTS','EGBN','CALM','KSS','BRY','OMF','EPR','FLIC','CLWT','DOC','SFL','SBGI','OLP','EPM','ALX','VGR','SPOK','MSB','COLB','HIW','KRNY','PK','RTLR','BHR','FFIC','AHH','BNL','FAT','HNNA','MAIN','TX','ARC','KNTK','STR','AHR','OUT','FIBK','GLBZ','PDM','NWBI','IIPR','MDV','CHCT','LX','CBL','PINE','LTC','LU','FISI','HESM','HVT','PFS','WU','PWOD','GLPI','AAN','PSTL','PAX','BGS','GSL','TTEC','SELF','GTY','T','BLX','BMRC','HAFC','KRT','ADX','ESEA','SASR','NYCB','FNCB','VZ','CAMT','HTBK','JRSH','RMR','KSPI','UVV','SIGA','VINP','CZNC','MMM','BGSF','UBFO','BCBP','CCI','KRO','DOC','GRNT','FIZZ','AM','PFC','CFFN','PFE','BFS','AAT','FGBI','KRC','TAIT','APLE','PKST','SRC','BXP','APAM','WHR','HASI','UWMC','CPA','UGI','TSQ','WTBA','LNC','FNLC','WPC','KMI','DLX','JKS','NFBK','NEWT','OGN','NHI','UBCP','CRWS','LCNB','AUBN','ETD','SBLK','PPBI','BGFV','NSA','VLY','BRKL','NP','PANL','CCOI','O','VICI','XP','FCPT','ITRN','PM','ARCH','STRW','XRX','BCC','ACCO','BRT','QFIN','GAM','LXP','NXRT','NTB','SLG','PLTK','NPK','GTN','GOLD','DML.TO','CVE','BHC','IAG','BTE.TO','K.TO','BB','AG','NGD','PAAS','CNQ.TO','UEC','EXK','CCJ','TRP','FSM','SU','SSRM','TECK.B.TO','TD','CSIQ','HBM.TO','WPM','OVV','BNS','AEM','ERF','BCE.TO','LULU','ELD.TO','SVM.TO','NG','T.TO','BLDP','CLS.TO','ASM.TO','PPL.TO','CM.TO','TA.TO','BAM','ABUS','MG.TO','BMO.TO','GIL.TO','CEF','MUX','SLF','OTEX.TO','TK','CAE.TO','SA','IMAX','STKL','FNV','WCN.TO','TNK','PRMW','RCI.TO','MX.TO','TRI.TO','ONCY','GTE.TO','GIB.A','MERC','GSQ.V','DSG.TO','PD.TO','STN.TO','LORL','WPRT','NOA.TO','FEM.V','FSI','CIGI.TO','ACHV','APT','ETG.TO','TH.TO','TC.TO','LOOP','MPVD.TO','NYMX','SVB.TO','XRTX.V','KFS','NEPT','AAV.TO','ALYA.TO','BU.TO','SEN.TO','AEZS','DB','BAYRY','SAP','HENKY','FMS','IMUX','BASFY','DPSGY','DTEGY','POAHY','SIEGY','AFMD','RWEOY','IFNNY','VWAGY','BMWYY','AZSEY','MKGAF','DBOEY','MTTRY','CTTAY','MURGY','FMS','DLAKY','CRZBY','HDELY','SYIEY','EONGY','HENKY','ADDYY','RNMBY','DDAIF','DTEGY','CEE','SAPGF','HVRRY','SIEGY','MTUAY','FUPBY','PBSFY','BOSSY','BASFY','KPLUY','PMMAF','VALE','ABEV','BBD','PBR','ITUB','PBR.A','GGB','BRFS','SID','CIG','EBR','AZUL','UGP','ERJ','VIV','ELP','BEEF','SBS','BAK','CBD','USNZY','TSU','BSBR','CIOXY','ATL','BDORY','JBSAY','LND','BBSEY','BBD','LZRFY','EGIEY','HYPMY','KLBAY','EBR.B','MRRTY','EBR.B','COGNY','CYRBY','RADLY','MUFG','SMFG','NMR','KYO','MFG','ALPMY','HMC','SONY','TM','NJDCY','CJPRY','NIPPY','NTTYY','CAJ','BRDCY','AJINY','TKOMY','AHKSY','AONNY','IX','DRFDY','MKTAY','PCRFY','SFTBY','KYCCF','MITSY','ASGLY','TKECY','BSEFY','TOELY','SMCAY','SVNDY','KDDIY','TYIDF','CSIOY','SMFG','BHP','BHP','ATHE','KZIA','IMMP','GDLNF','SKHHY','DNKLY','IAASX','LYSCF','GENE','BNTC','ANZBY','CSLLY','BXBLY','CMSQY','CBAUF','ASX','ARAFF','CHEOY','FSUGY','AWCMY','CLVLY','RGRNF','SVLKF','APAJF','CLVLF','BEPTF','AGLNF',]))\n",
        "S = [s for s in S if (s+'.TO') not in S]\n",
        "print(len(S))"
      ],
      "metadata": {
        "colab": {
          "base_uri": "https://localhost:8080/"
        },
        "id": "UU5AgX0o3Mye",
        "outputId": "521ffd5a-6d7f-4d9b-a278-45ad318ad10a"
      },
      "execution_count": null,
      "outputs": [
        {
          "output_type": "stream",
          "name": "stdout",
          "text": [
            "753\n"
          ]
        }
      ]
    },
    {
      "cell_type": "code",
      "source": [],
      "metadata": {
        "id": "qtD6kw8B8akj"
      },
      "execution_count": null,
      "outputs": []
    },
    {
      "cell_type": "code",
      "source": [
        "# NYSE = stock_info_ingestion(S)\n",
        "# TSE = stock_info_ingestion([s+'.TO' for s in S if s[-3:] not in ['.TO', '.SA', '.AX']])"
      ],
      "metadata": {
        "id": "TwONZWvpl6t2"
      },
      "execution_count": 2,
      "outputs": []
    },
    {
      "cell_type": "code",
      "source": [
        "results = pd.concat([NYSE, TSE], axis=0)\n",
        "print(results.shape)\n",
        "results = results[((~results['dividendYield'].isna())|(~results['payoutRatio'].isna()))&(results['payoutRatio']<150)]\n",
        "results = results.sort_values(['shortName', 'currency'], ascending=[True, True])\n",
        "results = results.drop_duplicates('shortName', keep='first')\n",
        "results = results.sort_values('dividendYield', ascending=False)\n",
        "results = results.reset_index().drop('index', axis=1)\n",
        "print(results.shape)"
      ],
      "metadata": {
        "colab": {
          "base_uri": "https://localhost:8080/"
        },
        "id": "ykeA_NLhAWgj",
        "outputId": "3ab27a2d-2510-495f-8091-107d8c7df73e"
      },
      "execution_count": null,
      "outputs": [
        {
          "output_type": "stream",
          "name": "stdout",
          "text": [
            "(966, 15)\n",
            "(510, 15)\n"
          ]
        }
      ]
    },
    {
      "cell_type": "code",
      "source": [
        "results[results['dividendYield']>4].shape"
      ],
      "metadata": {
        "colab": {
          "base_uri": "https://localhost:8080/"
        },
        "id": "aorEB5iP5MFt",
        "outputId": "39cadb47-42e6-4ce8-9e54-9bfd752e07ce"
      },
      "execution_count": null,
      "outputs": [
        {
          "output_type": "execute_result",
          "data": {
            "text/plain": [
              "(273, 15)"
            ]
          },
          "metadata": {},
          "execution_count": 137
        }
      ]
    },
    {
      "cell_type": "code",
      "source": [],
      "metadata": {
        "id": "vKLuPHSl5MIT"
      },
      "execution_count": null,
      "outputs": []
    },
    {
      "cell_type": "code",
      "source": [
        "\n",
        "from google.colab import files\n",
        "results.to_excel('dividend-stock_info.xlsx', index=False)\n",
        "files.download('dividend-stock_info.xlsx')"
      ],
      "metadata": {
        "colab": {
          "base_uri": "https://localhost:8080/",
          "height": 17
        },
        "id": "mzanTrCt09MC",
        "outputId": "4de5295c-17a9-4a94-efd8-c963b2e44b35"
      },
      "execution_count": null,
      "outputs": [
        {
          "output_type": "display_data",
          "data": {
            "text/plain": [
              "<IPython.core.display.Javascript object>"
            ],
            "application/javascript": [
              "\n",
              "    async function download(id, filename, size) {\n",
              "      if (!google.colab.kernel.accessAllowed) {\n",
              "        return;\n",
              "      }\n",
              "      const div = document.createElement('div');\n",
              "      const label = document.createElement('label');\n",
              "      label.textContent = `Downloading \"${filename}\": `;\n",
              "      div.appendChild(label);\n",
              "      const progress = document.createElement('progress');\n",
              "      progress.max = size;\n",
              "      div.appendChild(progress);\n",
              "      document.body.appendChild(div);\n",
              "\n",
              "      const buffers = [];\n",
              "      let downloaded = 0;\n",
              "\n",
              "      const channel = await google.colab.kernel.comms.open(id);\n",
              "      // Send a message to notify the kernel that we're ready.\n",
              "      channel.send({})\n",
              "\n",
              "      for await (const message of channel.messages) {\n",
              "        // Send a message to notify the kernel that we're ready.\n",
              "        channel.send({})\n",
              "        if (message.buffers) {\n",
              "          for (const buffer of message.buffers) {\n",
              "            buffers.push(buffer);\n",
              "            downloaded += buffer.byteLength;\n",
              "            progress.value = downloaded;\n",
              "          }\n",
              "        }\n",
              "      }\n",
              "      const blob = new Blob(buffers, {type: 'application/binary'});\n",
              "      const a = document.createElement('a');\n",
              "      a.href = window.URL.createObjectURL(blob);\n",
              "      a.download = filename;\n",
              "      div.appendChild(a);\n",
              "      a.click();\n",
              "      div.remove();\n",
              "    }\n",
              "  "
            ]
          },
          "metadata": {}
        },
        {
          "output_type": "display_data",
          "data": {
            "text/plain": [
              "<IPython.core.display.Javascript object>"
            ],
            "application/javascript": [
              "download(\"download_d582d0c9-2272-4f94-a943-ca08479624fb\", \"dividend-stock_info.xlsx\", 62705)"
            ]
          },
          "metadata": {}
        }
      ]
    },
    {
      "cell_type": "code",
      "source": [],
      "metadata": {
        "id": "gz7XRd24l6xz"
      },
      "execution_count": null,
      "outputs": []
    },
    {
      "cell_type": "code",
      "source": [],
      "metadata": {
        "id": "KT0KeEaVlzEf"
      },
      "execution_count": null,
      "outputs": []
    }
  ]
}